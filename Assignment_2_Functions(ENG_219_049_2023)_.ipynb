{
  "cells": [
    {
      "cell_type": "markdown",
      "metadata": {
        "id": "view-in-github",
        "colab_type": "text"
      },
      "source": [
        "<a href=\"https://colab.research.google.com/github/shem0049/Aritmetic-Assignment/blob/main/Assignment_2_Functions(ENG_219_049_2023)_.ipynb\" target=\"_parent\"><img src=\"https://colab.research.google.com/assets/colab-badge.svg\" alt=\"Open In Colab\"/></a>"
      ]
    },
    {
      "cell_type": "markdown",
      "metadata": {
        "id": "3fW5OJlQsh8g"
      },
      "source": [
        "## Exercise 04.1 (simple function)\n",
        "\n",
        "Write a function called `is_even` which takes an integer as an argument and returns `True` if the argument is even, and otherwise returns `False`. Test your function for several values."
      ]
    },
    {
      "cell_type": "code",
      "source": [
        "def is_even(num):\n",
        "    return num % 2 == 0\n",
        "\n",
        "user_input = int(input(\"Enter an integer: \"))\n",
        "result = is_even(user_input)\n",
        "print(result)"
      ],
      "metadata": {
        "id": "SwNYzkxLzXlG",
        "colab": {
          "base_uri": "https://localhost:8080/"
        },
        "outputId": "6e0ab045-0a15-4374-ba72-b568f4c557bc"
      },
      "execution_count": null,
      "outputs": [
        {
          "output_type": "stream",
          "name": "stdout",
          "text": [
            "Enter an integer: 4\n",
            "True\n"
          ]
        }
      ]
    },
    {
      "cell_type": "code",
      "execution_count": null,
      "metadata": {
        "id": "EsncudILsh8m",
        "colab": {
          "base_uri": "https://localhost:8080/"
        },
        "outputId": "ffef221c-43e1-48af-a79a-de0f85d4444b"
      },
      "outputs": [
        {
          "output_type": "stream",
          "name": "stdout",
          "text": [
            "False\n",
            "False\n"
          ]
        }
      ],
      "source": [
        "def is_even(x):\n",
        "    if x % 2 == 0:\n",
        "        return True\n",
        "    else:\n",
        "        return False\n",
        "\n",
        "print(is_even(5))\n",
        "print(is_even(9))"
      ]
    },
    {
      "cell_type": "code",
      "source": [
        "def is_even(x):\n",
        "    return x % 2 == 0\n",
        "\n",
        "print(is_even(4))\n",
        "print(is_even(7))"
      ],
      "metadata": {
        "colab": {
          "base_uri": "https://localhost:8080/"
        },
        "id": "cPyOrYpLzib1",
        "outputId": "e01cf062-580e-4e2f-db37-f6dec517a812"
      },
      "execution_count": null,
      "outputs": [
        {
          "output_type": "stream",
          "name": "stdout",
          "text": [
            "True\n",
            "False\n"
          ]
        }
      ]
    },
    {
      "cell_type": "markdown",
      "metadata": {
        "id": "o6E1_RYrsh8p"
      },
      "source": [
        "## Exercise 04.2 (functions and default arguments)\n",
        "\n",
        "Write a single function named `magnitude` that takes each component of a vector of length 2 or 3 and returns the magnitude.\n",
        "Use default arguments to handle vectors of length 2 or 3 with the same code. Test your function for correctness against hand calculations for a selection of values."
      ]
    },
    {
      "cell_type": "code",
      "execution_count": null,
      "metadata": {
        "colab": {
          "base_uri": "https://localhost:8080/"
        },
        "id": "ZZo0oTFesh8p",
        "outputId": "9aedd892-cd6e-48a0-8076-86271654bbed"
      },
      "outputs": [
        {
          "output_type": "stream",
          "name": "stdout",
          "text": [
            "3.605551275463989\n"
          ]
        }
      ],
      "source": [
        "def magnitude(x, y,z=0):\n",
        "    return (x**2 + y**2 + z**2)**(1/2)\n",
        "\n",
        "print(magnitude(2,3))"
      ]
    },
    {
      "cell_type": "code",
      "source": [
        "def magnitude(*args):\n",
        "    return (sum(x**2 for x in args))**(1/2)\n",
        "\n",
        "print(magnitude(2,3))"
      ],
      "metadata": {
        "colab": {
          "base_uri": "https://localhost:8080/"
        },
        "id": "ZbUIEXff1-eO",
        "outputId": "190f8d77-d2c5-424e-f8af-613e568f2cb6"
      },
      "execution_count": null,
      "outputs": [
        {
          "output_type": "stream",
          "name": "stdout",
          "text": [
            "3.605551275463989\n"
          ]
        }
      ]
    },
    {
      "cell_type": "markdown",
      "metadata": {
        "id": "rLvbuk7nsh8r"
      },
      "source": [
        "## Exercise 04.3 (functions)\n",
        "\n",
        "Given the coordinates of the vertices of a triangle, $(x_0, y_0)$, $(x_1, y_1)$ and $(x_2, y_2)$, the area $A$ of the triangle is given by:\n",
        "$$\n",
        "A = \\left| \\frac{x_0(y_1  - y_2) + x_1(y_2 - y_0) + x_2(y_0 - y_1)}{2} \\right|\n",
        "$$\n",
        "Write a function named `area` that computes the area of a triangle given the coordinates of the vertices.\n",
        "The order of the function arguments must be (`x0, y0, x1, y1, x2, y2)`.\n",
        "\n",
        "Test the output of your function against some known solutions."
      ]
    },
    {
      "cell_type": "code",
      "execution_count": null,
      "metadata": {
        "colab": {
          "base_uri": "https://localhost:8080/"
        },
        "id": "bU1keESumtLm",
        "outputId": "45bcb5ee-5f17-4ec1-f4c6-f82b9230c9cf"
      },
      "outputs": [
        {
          "output_type": "stream",
          "name": "stdout",
          "text": [
            "1.5\n"
          ]
        }
      ],
      "source": [
        "def area(x0, y0, x1, y1, x2, y2):\n",
        "    return abs((x0 * (y1-y2) + x1 * (y2-y0) + x2 * (y0-y1))/2)\n",
        "\n",
        "print(area(0, 1, 1, 4, 2, 4))"
      ]
    },
    {
      "cell_type": "code",
      "source": [
        "def area(*args):\n",
        "    x0, y0, x1, y1, x2, y2 = args\n",
        "    return abs((x0 * (y1 - y2) + x1 * (y2 - y0) + x2 * (y0 - y1)) / 2)\n",
        "\n",
        "print(area(0, 1, 7, 3, 2, 4))"
      ],
      "metadata": {
        "colab": {
          "base_uri": "https://localhost:8080/"
        },
        "id": "8GuvdHM33RNJ",
        "outputId": "b3783232-82e7-4ca4-cc9a-ec3dd9d8c4cc"
      },
      "execution_count": null,
      "outputs": [
        {
          "output_type": "stream",
          "name": "stdout",
          "text": [
            "8.5\n"
          ]
        }
      ]
    },
    {
      "cell_type": "markdown",
      "metadata": {
        "id": "jb-JoQHzsh8s"
      },
      "source": [
        "## Exercise 04.4 (recursion)\n",
        "\n",
        "The factorial of a non-negative integer $n$ is expressed recursively by:\n",
        "$$\n",
        "n! =\n",
        "\\begin{cases}\n",
        "1 & n = 0 \\\\\n",
        "(n - 1)! \\,n & n > 0\n",
        "\\end{cases}\n",
        "$$\n",
        "\n",
        "Develop a function named `factorial` for computing the factorial using recursion.\n",
        "Test your function against the `math.factorial` function, e.g."
      ]
    },
    {
      "cell_type": "code",
      "execution_count": null,
      "metadata": {
        "colab": {
          "base_uri": "https://localhost:8080/"
        },
        "id": "RRMXyZpqsh8s",
        "outputId": "6e5b1f7e-97df-4de5-af83-61a23c229949"
      },
      "outputs": [
        {
          "output_type": "stream",
          "name": "stdout",
          "text": [
            "The factorial of 4 is 24\n"
          ]
        }
      ],
      "source": [
        "def factorial(n):\n",
        "    import math\n",
        "    for i in range(n):\n",
        "        if n == 0:\n",
        "            return 1\n",
        "        else:\n",
        "            return n*math.factorial(n - 1)\n",
        "N=factorial(4)\n",
        "print(\"The factorial of 4 is\",N)"
      ]
    },
    {
      "cell_type": "code",
      "source": [
        "def factorial(n):\n",
        "    if n == 0:\n",
        "        return 1\n",
        "    else:\n",
        "        result = 1\n",
        "        for i in range(1, n + 1):\n",
        "            result *= i\n",
        "        return result\n",
        "\n",
        "print(\"The factorial of 4 is\", factorial(4))"
      ],
      "metadata": {
        "colab": {
          "base_uri": "https://localhost:8080/"
        },
        "id": "xkcU50Wd37RV",
        "outputId": "3cd1b0c1-5d60-43fa-d0ad-0b64b9f1d3de"
      },
      "execution_count": null,
      "outputs": [
        {
          "output_type": "stream",
          "name": "stdout",
          "text": [
            "The factorial of 4 is 24\n"
          ]
        }
      ]
    },
    {
      "cell_type": "markdown",
      "metadata": {
        "id": "ZtsafLq0sh8u"
      },
      "source": [
        "## Exercise 04.5 (functions and passing functions as arguments)\n",
        "\n",
        "Restructure your program from the bisection problem in Exercise 02 to\n",
        "\n",
        "- Use a Python function to evaluate the mathematical function $f$ that we want to find the root of;\n",
        "\n",
        "and then\n",
        "\n",
        "- Encapsulate the bisection algorithm inside a Python function, which takes as arguments:\n",
        "  1. the function we want to find the roots of\n",
        "  1. the points $x_{0}$ and $x_{1}$ between which we want to search for a root\n",
        "  1. the tolerance for exiting the bisection algorithm (exit when $|f(x)| < \\text{tol}$)\n",
        "  1. maximum number of iterations (the algorithm should exit once this limit is reached)\n",
        "\n",
        "For the first step, create a Python function for evaluating $f$, e.g.:z\n",
        "```python\n",
        "def f(x):\n",
        "    # Put body of the function f(x) here, returning the function value\n",
        "```           \n",
        "For the second step, encapsulate the bisection algorithm in a function:\n",
        "```python\n",
        "def compute_root(f, x0, x1, tol, max_it):\n",
        "\n",
        "    # Implement bisection algorithm here, and return when tolerance is satisfied or\n",
        "    # number of iterations exceeds max_it\n",
        "\n",
        "    # Return the approximate root, value of f(x) and the number of iterations\n",
        "    return x, f, num_it\n",
        "\n",
        "# Compute approximate root of the function f\n",
        "x, f_x, num_it = compute_root(f, x0=0, x1=1, tol=1.0e-6, max_it=1000)\n",
        "```\n",
        "\n",
        "You can try testing your program for a function $f(x)$ that is simpler from the function Exercise 02, e.g. $f(x) = x - 4$.\n",
        "A quadratic function, the roots of which you can find analytically, would be a good test case."
      ]
    },
    {
      "cell_type": "markdown",
      "metadata": {
        "id": "KBtGgIuJsh8u"
      },
      "source": [
        "### Solution\n",
        "\n",
        "Define the function for computing $f(x)$:"
      ]
    },
    {
      "cell_type": "code",
      "execution_count": null,
      "metadata": {
        "id": "MAAoORXXsh8v"
      },
      "outputs": [],
      "source": [
        "def my_f(x):\n",
        "    \"\"\"Evaluate polynomial function\"\"\"\n",
        "    return x**5 / 10 + x**3 - 10 * x**2 + 4 * x + 7"
      ]
    },
    {
      "cell_type": "code",
      "execution_count": null,
      "metadata": {
        "id": "Z8qQHcjgsh8v"
      },
      "outputs": [],
      "source": [
        "def compute_root(f, x0, x1, tol, max_it):\n",
        "    num_iterations = 0\n",
        "    f_mid = float('inf')  # Initialize f_mid to a large value\n",
        "    while abs(f_mid) > tol and num_iterations < max_it:\n",
        "        x_mid = (x0 + x1) / 2\n",
        "        # The following line was incorrect. It should evaluate the function at x_mid\n",
        "        f_mid = f(x_mid)  # Evaluate the function at the midpoint\n",
        "\n",
        "        # The condition was incorrect in the original code\n",
        "        # The if condition should check for the interval where the root lies\n",
        "        if f(x0) * f_mid < 0:\n",
        "            x1 = x_mid\n",
        "        else:\n",
        "            x0 = x_mid\n",
        "        num_iterations += 1\n",
        "    return x_mid, f_mid, num_iterations"
      ]
    },
    {
      "cell_type": "markdown",
      "source": [],
      "metadata": {
        "id": "m4JHGvo1PHfq"
      }
    },
    {
      "cell_type": "code",
      "source": [
        "def factorial(n):\n",
        "    if n == 0:\n",
        "        return 1\n",
        "    else:\n",
        "        return n * factorial(n - 1)"
      ],
      "metadata": {
        "id": "fO9_SH077-l4"
      },
      "execution_count": null,
      "outputs": []
    },
    {
      "cell_type": "markdown",
      "metadata": {
        "id": "JhGnQvVWsh8w"
      },
      "source": [
        "#### Optional extension\n",
        "\n",
        "Use recursion to write a `compute_root` function that *does not* require a `for` or `while` loop."
      ]
    },
    {
      "cell_type": "code",
      "execution_count": null,
      "metadata": {
        "id": "akULHpDZsh8w"
      },
      "outputs": [],
      "source": [
        "def compute_root(f, x0, x1, tol, max_it, it_count=0):\n",
        "    x_mid = (x0 + x1) / 2\n",
        "    f_mid = f(x_mid)\n",
        "\n",
        "    if abs(f_mid) <= tol or it_count >= max_it:\n",
        "        return x_mid, f_mid, it_count  # Base case: tolerance or max iterations reached\n",
        "\n",
        "    it_count += 1\n",
        "\n",
        "    if f(x0) * f_mid < 0:\n",
        "        return compute_root(f, x0, x_mid, tol, max_it, it_count) # Recursive call\n",
        "    else:\n",
        "        return compute_root(f, x_mid, x1, tol, max_it, it_count) # Recursive call"
      ]
    },
    {
      "cell_type": "code",
      "execution_count": null,
      "metadata": {
        "id": "slTONLU0sh8x"
      },
      "outputs": [],
      "source": [
        "import math # import the math module\n",
        "\n",
        "## tests ##\n",
        "x, f, num_it = compute_root(my_f, x0=0, x1=2, tol=1.0e-6, max_it=1000)\n",
        "assert math.isclose(x, 1.1568354368209839) # Now math.isclose is accessible"
      ]
    }
  ],
  "metadata": {
    "celltoolbar": "Create Assignment",
    "colab": {
      "provenance": [],
      "include_colab_link": true
    },
    "kernelspec": {
      "display_name": "Python 3 (ipykernel)",
      "language": "python",
      "name": "python3"
    },
    "language_info": {
      "codemirror_mode": {
        "name": "ipython",
        "version": 3
      },
      "file_extension": ".py",
      "mimetype": "text/x-python",
      "name": "python",
      "nbconvert_exporter": "python",
      "pygments_lexer": "ipython3",
      "version": "3.10.6"
    },
    "otter": {
      "OK_FORMAT": true,
      "assignment_name": "Exercises 4",
      "tests": {}
    }
  },
  "nbformat": 4,
  "nbformat_minor": 0
}